{
 "cells": [
  {
   "cell_type": "code",
   "execution_count": 1,
   "metadata": {},
   "outputs": [
    {
     "ename": "ImportError",
     "evalue": "No module named ecmwfapi",
     "output_type": "error",
     "traceback": [
      "\u001b[0;31m---------------------------------------------------------------------------\u001b[0m",
      "\u001b[0;31mImportError\u001b[0m                               Traceback (most recent call last)",
      "\u001b[0;32m<ipython-input-1-c82b81cfe7c1>\u001b[0m in \u001b[0;36m<module>\u001b[0;34m()\u001b[0m\n\u001b[0;32m----> 1\u001b[0;31m \u001b[0;32mfrom\u001b[0m \u001b[0mecmwfapi\u001b[0m \u001b[0;32mimport\u001b[0m \u001b[0mECMWFService\u001b[0m\u001b[0;34m\u001b[0m\u001b[0m\n\u001b[0m",
      "\u001b[0;31mImportError\u001b[0m: No module named ecmwfapi"
     ]
    }
   ],
   "source": [
    "from ecmwfapi import ECMWFService"
   ]
  },
  {
   "cell_type": "code",
   "execution_count": 2,
   "metadata": {},
   "outputs": [
    {
     "name": "stdout",
     "output_type": "stream",
     "text": [
      "2t.grib\n"
     ]
    }
   ],
   "source": [
    "target = \"2t.grib\"\n",
    "print target"
   ]
  },
  {
   "cell_type": "markdown",
   "metadata": {},
   "source": [
    "I get the data"
   ]
  },
  {
   "cell_type": "code",
   "execution_count": 3,
   "metadata": {},
   "outputs": [
    {
     "ename": "NameError",
     "evalue": "name 'ECMWFService' is not defined",
     "output_type": "error",
     "traceback": [
      "\u001b[0;31m---------------------------------------------------------------------------\u001b[0m",
      "\u001b[0;31mNameError\u001b[0m                                 Traceback (most recent call last)",
      "\u001b[0;32m<ipython-input-3-66ae805cc962>\u001b[0m in \u001b[0;36m<module>\u001b[0;34m()\u001b[0m\n\u001b[1;32m     19\u001b[0m         }\n\u001b[1;32m     20\u001b[0m \u001b[0;34m\u001b[0m\u001b[0m\n\u001b[0;32m---> 21\u001b[0;31m \u001b[0mmars\u001b[0m \u001b[0;34m=\u001b[0m \u001b[0mECMWFService\u001b[0m\u001b[0;34m(\u001b[0m\u001b[0;34m\"mars\"\u001b[0m\u001b[0;34m,\u001b[0m \u001b[0;34m**\u001b[0m\u001b[0mkey\u001b[0m\u001b[0;34m)\u001b[0m\u001b[0;34m\u001b[0m\u001b[0m\n\u001b[0m\u001b[1;32m     22\u001b[0m \u001b[0mmars\u001b[0m\u001b[0;34m.\u001b[0m\u001b[0mexecute\u001b[0m\u001b[0;34m(\u001b[0m\u001b[0mrequest\u001b[0m\u001b[0;34m,\u001b[0m \u001b[0mtarget\u001b[0m\u001b[0;34m)\u001b[0m\u001b[0;34m\u001b[0m\u001b[0m\n",
      "\u001b[0;31mNameError\u001b[0m: name 'ECMWFService' is not defined"
     ]
    }
   ],
   "source": [
    "\n",
    "\n",
    "key = {\n",
    "        \"url\"   : \"https://api.ecmwf.int/v1\",\n",
    "        \"key\"   : \"83253855c912864513eb33f5fb1de322\",\n",
    "        \"email\" : \"Sylvie.Lamy-Thepaut@ecmwf.int\"\n",
    "        }\n",
    "\n",
    "request = {\n",
    "                \"dataset\" : \"od\",\n",
    "                \"class\"   : \"od\",\n",
    "                \"date\"    : \"-1\",\n",
    "                \"levtype\" : \"sfc\",\n",
    "                \"param\"   : \"167.128\",\n",
    "                \"step\"    : 6,\n",
    "                \"type\"    : \"fc\",\n",
    "                \"time\"    : 0,\n",
    "                \"grid\"    : [0.5,0.5]\n",
    "        }\n",
    "\n",
    "mars = ECMWFService(\"mars\", **key)           \n",
    "mars.execute(request, target)"
   ]
  },
  {
   "cell_type": "code",
   "execution_count": null,
   "metadata": {},
   "outputs": [],
   "source": [
    "import Magics.macro as magics\n",
    "#Setting the coordinates of the geographical area\n",
    "projection = magics.mmap(subpage_map_projection = 'robinson',\n",
    "                  #subpage_lower_left_latitude= 34.,\n",
    "                  #subpage_lower_left_longitude= -40.,\n",
    "                  #subpage_upper_right_latitude= 60.,\n",
    "                  #subpage_upper_right_longitude= 24.\n",
    "                        )\n",
    "\n",
    "grib = magics.mgrib(grib_input_file_name=target)\n",
    "\n",
    "contour = magics.mcont(\n",
    "    contour_automatic_setting=\"ecchart\",\n",
    "    legend=\"on\"\n",
    ")\n",
    "\n",
    "title = magics.mtext()\n",
    "legend = magics.mlegend( legend_display_type = \"continuous\")\n",
    "\n",
    "magics.plot(projection, grib, contour, title, magics.mcoast(), legend)"
   ]
  },
  {
   "cell_type": "code",
   "execution_count": null,
   "metadata": {
    "collapsed": true
   },
   "outputs": [],
   "source": []
  },
  {
   "cell_type": "code",
   "execution_count": null,
   "metadata": {
    "collapsed": true
   },
   "outputs": [],
   "source": []
  }
 ],
 "metadata": {
  "kernelspec": {
   "display_name": "Python [default]",
   "language": "python",
   "name": "python2"
  },
  "language_info": {
   "codemirror_mode": {
    "name": "ipython",
    "version": 2
   },
   "file_extension": ".py",
   "mimetype": "text/x-python",
   "name": "python",
   "nbconvert_exporter": "python",
   "pygments_lexer": "ipython2",
   "version": "2.7.13"
  }
 },
 "nbformat": 4,
 "nbformat_minor": 1
}
