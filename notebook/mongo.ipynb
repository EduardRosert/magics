{
 "cells": [
  {
   "cell_type": "code",
   "execution_count": 6,
   "metadata": {
    "collapsed": true
   },
   "outputs": [],
   "source": [
    "import pymongo\n"
   ]
  },
  {
   "cell_type": "code",
   "execution_count": 7,
   "metadata": {
    "collapsed": true
   },
   "outputs": [],
   "source": [
    "from pymongo import MongoClient\n",
    "client = MongoClient()"
   ]
  },
  {
   "cell_type": "code",
   "execution_count": 8,
   "metadata": {},
   "outputs": [
    {
     "name": "stdout",
     "output_type": "stream",
     "text": [
      "{'param2': 'val2', 'param1': 'val1'}\n"
     ]
    }
   ],
   "source": [
    "stat = { \"param1\" : \"val1\", \"param2\" : \"val2\" }\n",
    "print stat "
   ]
  },
  {
   "cell_type": "code",
   "execution_count": 10,
   "metadata": {},
   "outputs": [
    {
     "data": {
      "text/plain": [
       "<pymongo.results.InsertOneResult at 0x10849bb40>"
      ]
     },
     "execution_count": 10,
     "metadata": {},
     "output_type": "execute_result"
    }
   ],
   "source": [
    "db = client['statistique']\n",
    "stats = db.stats\n",
    "stats.insert_one(stat)"
   ]
  },
  {
   "cell_type": "code",
   "execution_count": 11,
   "metadata": {},
   "outputs": [
    {
     "data": {
      "text/plain": [
       "{u'_id': ObjectId('57d86ce2049832a4a0ddd19b'),\n",
       " u'param1': u'val1',\n",
       " u'param2': u'val2'}"
      ]
     },
     "execution_count": 11,
     "metadata": {},
     "output_type": "execute_result"
    }
   ],
   "source": [
    "stats.find_one()\n"
   ]
  },
  {
   "cell_type": "code",
   "execution_count": 30,
   "metadata": {},
   "outputs": [
    {
     "name": "stdout",
     "output_type": "stream",
     "text": [
      "{'name': 'stat', 'value': 1}\n",
      "{'name': 'stat', 'value': 2}\n",
      "{'name': 'stat', 'value': 3}\n",
      "{'name': 'stat', 'value': 4}\n",
      "{'name': 'stat', 'value': 5}\n",
      "{'name': 'stat', 'value': 6}\n",
      "{'name': 'stat', 'value': 7}\n",
      "{'name': 'stat', 'value': 8}\n",
      "{'name': 'stat', 'value': 9}\n"
     ]
    },
    {
     "data": {
      "text/plain": [
       "46"
      ]
     },
     "execution_count": 30,
     "metadata": {},
     "output_type": "execute_result"
    }
   ],
   "source": [
    "\n",
    "for i in range(1, 10):\n",
    "    stat = {}\n",
    "    stat[\"name\"] = \"stat\"\n",
    "    stat[\"value\"] = i\n",
    "    print stat\n",
    "    db.stats.insert_one(stat)\n",
    "    \n",
    "db.stats.count()"
   ]
  },
  {
   "cell_type": "code",
   "execution_count": 36,
   "metadata": {},
   "outputs": [
    {
     "data": {
      "text/plain": [
       "5"
      ]
     },
     "execution_count": 36,
     "metadata": {},
     "output_type": "execute_result"
    }
   ],
   "source": [
    "ex = db.stats.find({\"value\" : 3})\n",
    "db.stats.count({\"value\" : 3})\n"
   ]
  },
  {
   "cell_type": "code",
   "execution_count": 37,
   "metadata": {},
   "outputs": [
    {
     "name": "stdout",
     "output_type": "stream",
     "text": [
      "{u'_id': ObjectId('57d87097049832a4a0ddd19f'), u'name': u'stat', u'value': 3}\n",
      "{u'_id': ObjectId('57d870aa049832a4a0ddd1a8'), u'name': u'stat', u'value': 3}\n",
      "{u'_id': ObjectId('57d870b2049832a4a0ddd1b1'), u'name': u'stat', u'value': 3}\n",
      "{u'_id': ObjectId('57d870b8049832a4a0ddd1ba'), u'name': u'stat', u'value': 3}\n",
      "{u'_id': ObjectId('57d8713d049832a4a0ddd1c3'), u'name': u'stat', u'value': 3}\n"
     ]
    }
   ],
   "source": [
    "for e in ex:\n",
    "    print e"
   ]
  },
  {
   "cell_type": "code",
   "execution_count": null,
   "metadata": {
    "collapsed": true
   },
   "outputs": [],
   "source": []
  }
 ],
 "metadata": {
  "kernelspec": {
   "display_name": "Python [default]",
   "language": "python",
   "name": "python2"
  },
  "language_info": {
   "codemirror_mode": {
    "name": "ipython",
    "version": 2
   },
   "file_extension": ".py",
   "mimetype": "text/x-python",
   "name": "python",
   "nbconvert_exporter": "python",
   "pygments_lexer": "ipython2",
   "version": "2.7.13"
  }
 },
 "nbformat": 4,
 "nbformat_minor": 1
}
